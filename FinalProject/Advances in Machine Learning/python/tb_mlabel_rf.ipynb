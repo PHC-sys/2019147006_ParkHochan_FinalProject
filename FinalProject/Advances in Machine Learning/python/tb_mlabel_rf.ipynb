{
  "cells": [
    {
      "cell_type": "markdown",
      "metadata": {
        "colab_type": "text",
        "id": "view-in-github"
      },
      "source": [
        "<a href=\"https://colab.research.google.com/github/2020147544/Advances_in_Financial_Engineering/blob/main/tb_mlabel_rf.ipynb\" target=\"_parent\"><img src=\"https://colab.research.google.com/assets/colab-badge.svg\" alt=\"Open In Colab\"/></a>"
      ]
    },
    {
      "cell_type": "code",
      "execution_count": 2,
      "metadata": {
        "colab": {
          "base_uri": "https://localhost:8080/"
        },
        "id": "RYyLPcGElhOD",
        "outputId": "c338f0a7-7444-450e-dbcf-53fe02683e54"
      },
      "outputs": [
        {
          "name": "stdout",
          "output_type": "stream",
          "text": [
            "Looking in indexes: https://pypi.org/simple, https://us-python.pkg.dev/colab-wheels/public/simple/\n",
            "Collecting cprint\n",
            "  Downloading cprint-1.2.2.tar.gz (2.3 kB)\n",
            "  Preparing metadata (setup.py) ... \u001b[?25l\u001b[?25hdone\n",
            "Building wheels for collected packages: cprint\n",
            "  Building wheel for cprint (setup.py) ... \u001b[?25l\u001b[?25hdone\n",
            "  Created wheel for cprint: filename=cprint-1.2.2-py3-none-any.whl size=2519 sha256=6656927022d8fecd10766deefac7ba3a4a9f51bd0cfed37dae6d19a3531b042b\n",
            "  Stored in directory: /root/.cache/pip/wheels/e8/c7/77/b74864ee8de3abb693e3be291549a29c6ff242ce66801b1622\n",
            "Successfully built cprint\n",
            "Installing collected packages: cprint\n",
            "Successfully installed cprint-1.2.2\n"
          ]
        }
      ],
      "source": [
        "!pip install cprint"
      ]
    },
    {
      "cell_type": "code",
      "execution_count": 2,
      "metadata": {
        "id": "QGfKNhldlX6b"
      },
      "outputs": [],
      "source": [
        "#Import and Settings\n",
        "import numpy as np, pandas as pd, matplotlib.pyplot as plt, seaborn as sns\n",
        "from collections import deque\n",
        "from itertools import accumulate\n",
        "from cprint import *\n",
        "import bisect\n",
        "import warnings\n",
        "\n",
        "plt.rcParams['figure.figsize'] = 17,9\n",
        "sns.set_style('whitegrid')\n",
        "warnings.filterwarnings('ignore')"
      ]
    },
    {
      "cell_type": "code",
      "execution_count": null,
      "metadata": {
        "colab": {
          "base_uri": "https://localhost:8080/"
        },
        "id": "Bv3-QEY8lauL",
        "outputId": "3b699442-df15-4f69-c4e4-5db78ee77fa9"
      },
      "outputs": [],
      "source": [
        "from google.colab import drive\n",
        "drive.mount('/content/drive')"
      ]
    },
    {
      "cell_type": "code",
      "execution_count": 3,
      "metadata": {
        "id": "z9HEq9valX6g"
      },
      "outputs": [],
      "source": [
        "# 0. 데이터\n",
        "kq150_data = pd.read_csv(r'C:\\Users\\John\\OneDrive\\바탕 화면\\School\\24Spring\\수프밍\\project\\data\\KQ150.csv',index_col=0)\n",
        "# kq150_dollar = pd.read_csv(r'Kp200F_volume_bars_500.csv',index_col=0)\n",
        "kq150_data.index = pd.to_datetime(kq150_data.index)\n",
        "# kq150_dollar.index = pd.to_datetime(kq150_dollar.index)"
      ]
    },
    {
      "cell_type": "code",
      "execution_count": 11,
      "metadata": {},
      "outputs": [
        {
          "data": {
            "text/html": [
              "<div>\n",
              "<style scoped>\n",
              "    .dataframe tbody tr th:only-of-type {\n",
              "        vertical-align: middle;\n",
              "    }\n",
              "\n",
              "    .dataframe tbody tr th {\n",
              "        vertical-align: top;\n",
              "    }\n",
              "\n",
              "    .dataframe thead th {\n",
              "        text-align: right;\n",
              "    }\n",
              "</style>\n",
              "<table border=\"1\" class=\"dataframe\">\n",
              "  <thead>\n",
              "    <tr style=\"text-align: right;\">\n",
              "      <th></th>\n",
              "      <th>Open</th>\n",
              "      <th>High</th>\n",
              "      <th>Low</th>\n",
              "      <th>Close</th>\n",
              "    </tr>\n",
              "    <tr>\n",
              "      <th>Date-Time</th>\n",
              "      <th></th>\n",
              "      <th></th>\n",
              "      <th></th>\n",
              "      <th></th>\n",
              "    </tr>\n",
              "  </thead>\n",
              "  <tbody>\n",
              "    <tr>\n",
              "      <th>2016-01-04 10:00:00</th>\n",
              "      <td>1090.0</td>\n",
              "      <td>1092.0</td>\n",
              "      <td>1090.0</td>\n",
              "      <td>1092.0</td>\n",
              "    </tr>\n",
              "    <tr>\n",
              "      <th>2016-01-04 10:01:00</th>\n",
              "      <td>1092.0</td>\n",
              "      <td>1093.0</td>\n",
              "      <td>1092.0</td>\n",
              "      <td>1093.0</td>\n",
              "    </tr>\n",
              "    <tr>\n",
              "      <th>2016-01-04 10:02:00</th>\n",
              "      <td>1093.0</td>\n",
              "      <td>1093.0</td>\n",
              "      <td>1093.0</td>\n",
              "      <td>1093.0</td>\n",
              "    </tr>\n",
              "    <tr>\n",
              "      <th>2016-01-04 10:03:00</th>\n",
              "      <td>1093.0</td>\n",
              "      <td>1093.0</td>\n",
              "      <td>1093.0</td>\n",
              "      <td>1093.0</td>\n",
              "    </tr>\n",
              "    <tr>\n",
              "      <th>2016-01-04 10:04:00</th>\n",
              "      <td>1092.7</td>\n",
              "      <td>1092.7</td>\n",
              "      <td>1092.5</td>\n",
              "      <td>1092.5</td>\n",
              "    </tr>\n",
              "  </tbody>\n",
              "</table>\n",
              "</div>"
            ],
            "text/plain": [
              "                       Open    High     Low   Close\n",
              "Date-Time                                          \n",
              "2016-01-04 10:00:00  1090.0  1092.0  1090.0  1092.0\n",
              "2016-01-04 10:01:00  1092.0  1093.0  1092.0  1093.0\n",
              "2016-01-04 10:02:00  1093.0  1093.0  1093.0  1093.0\n",
              "2016-01-04 10:03:00  1093.0  1093.0  1093.0  1093.0\n",
              "2016-01-04 10:04:00  1092.7  1092.7  1092.5  1092.5"
            ]
          },
          "execution_count": 11,
          "metadata": {},
          "output_type": "execute_result"
        }
      ],
      "source": [
        "kq150_data.head()"
      ]
    },
    {
      "cell_type": "code",
      "execution_count": 4,
      "metadata": {
        "colab": {
          "base_uri": "https://localhost:8080/"
        },
        "id": "js7w1mRqlX6h",
        "outputId": "011a9040-7301-4e3a-8c4a-0333748edd6d"
      },
      "outputs": [
        {
          "data": {
            "text/plain": [
              "DatetimeIndex(['2016-01-04 10:00:00', '2016-01-04 10:01:00',\n",
              "               '2016-01-04 10:02:00', '2016-01-04 10:03:00',\n",
              "               '2016-01-04 10:04:00', '2016-01-04 10:05:00',\n",
              "               '2016-01-04 10:06:00', '2016-01-04 10:07:00',\n",
              "               '2016-01-04 10:09:00', '2016-01-04 10:11:00',\n",
              "               ...\n",
              "               '2023-04-25 15:26:00', '2023-04-25 15:27:00',\n",
              "               '2023-04-25 15:28:00', '2023-04-25 15:29:00',\n",
              "               '2023-04-25 15:30:00', '2023-04-25 15:31:00',\n",
              "               '2023-04-25 15:32:00', '2023-04-25 15:33:00',\n",
              "               '2023-04-25 15:34:00', '2023-04-25 15:45:00'],\n",
              "              dtype='datetime64[ns]', name='Date-Time', length=654558, freq=None)"
            ]
          },
          "execution_count": 4,
          "metadata": {},
          "output_type": "execute_result"
        }
      ],
      "source": [
        "kq150_data.index"
      ]
    },
    {
      "cell_type": "markdown",
      "metadata": {},
      "source": [
        "# Tripple Barrier"
      ]
    },
    {
      "cell_type": "code",
      "execution_count": 5,
      "metadata": {
        "id": "jHTmqvcRlX6i"
      },
      "outputs": [],
      "source": [
        "# 1. 파킨슨 변동성\n",
        "def parkinson_volatility(df, n):\n",
        "    data_scope = deque()\n",
        "    date = df.index\n",
        "    parkinson_vol_lst = []\n",
        "    for i in range(len(df)):\n",
        "        data_scope.append(df.iloc[i, :])\n",
        "        if len(data_scope) > n:\n",
        "            data_scope.popleft()\n",
        "\n",
        "        parkinson_vol = np.sqrt(\n",
        "            sum(np.log(pd.DataFrame(data_scope)['High'].values / pd.DataFrame(data_scope)['Low'].values) ** 2) / (\n",
        "                        4 * np.log(2) * n))\n",
        "        parkinson_vol_lst.append(parkinson_vol)\n",
        "    \n",
        "    parkinson_vol_df = pd.DataFrame(data=parkinson_vol_lst, index=date, columns=['parksinson_vol'])\n",
        "    return parkinson_vol_df"
      ]
    },
    {
      "cell_type": "code",
      "execution_count": 6,
      "metadata": {
        "id": "sLXpVREalX6j"
      },
      "outputs": [],
      "source": [
        "def getDailyVol(close,span0=100):\n",
        "    '''\n",
        "    daily vol, reindexed to close\n",
        "    - used to set default profit taking and stop-loss limits\n",
        "    '''\n",
        "    df0=close.index.searchsorted(close.index-pd.Timedelta(days=1))\n",
        "    df0=df0[df0>0]\n",
        "    df0=pd.Series(close.index[df0-1], index=close.index[close.shape[0]-df0.shape[0]:])\n",
        "    df0=close.loc[df0.index]/close.loc[df0.values].values-1 # daily returns\n",
        "    df0=df0.ewm(span=span0).std()\n",
        "    return df0\n"
      ]
    },
    {
      "cell_type": "code",
      "execution_count": 7,
      "metadata": {
        "colab": {
          "base_uri": "https://localhost:8080/"
        },
        "id": "jpwYqWj4lX6k",
        "outputId": "58bd9341-7647-49ea-9569-37b0432aabbc"
      },
      "outputs": [
        {
          "data": {
            "text/plain": [
              "(                     parksinson_vol\n",
              " Date-Time                          \n",
              " 2016-01-04 10:00:00        0.000348\n",
              " 2016-01-04 10:01:00        0.000389\n",
              " 2016-01-04 10:02:00        0.000389\n",
              " 2016-01-04 10:03:00        0.000389\n",
              " 2016-01-04 10:04:00        0.000391\n",
              " ...                             ...\n",
              " 2023-04-25 15:31:00        0.000610\n",
              " 2023-04-25 15:32:00        0.000603\n",
              " 2023-04-25 15:33:00        0.000599\n",
              " 2023-04-25 15:34:00        0.000625\n",
              " 2023-04-25 15:45:00        0.000575\n",
              " \n",
              " [654558 rows x 1 columns],\n",
              " parksinson_vol    0.000505\n",
              " dtype: float64)"
            ]
          },
          "execution_count": 7,
          "metadata": {},
          "output_type": "execute_result"
        }
      ],
      "source": [
        "parkinson_vol = parkinson_volatility(kq150_data,10)\n",
        "parkinson_vol, parkinson_vol.mean()"
      ]
    },
    {
      "cell_type": "code",
      "execution_count": 8,
      "metadata": {
        "id": "bDdxBkn7DNU6"
      },
      "outputs": [],
      "source": [
        "entrance_exit_in = pd.read_csv(r'C:\\Users\\John\\OneDrive\\바탕 화면\\School\\24Spring\\수프밍\\project\\data\\entrance_exit_in.csv',index_col=0)"
      ]
    },
    {
      "cell_type": "code",
      "execution_count": 9,
      "metadata": {
        "id": "7GENpuZoDeyU"
      },
      "outputs": [],
      "source": [
        "entrance = pd.to_datetime(entrance_exit_in['Entrance'])\n",
        "entrance = pd.to_datetime(entrance.values)\n",
        "exit_ = pd.to_datetime(entrance_exit_in['Clearing'])\n",
        "exit_ = pd.to_datetime(exit_.values)"
      ]
    },
    {
      "cell_type": "code",
      "execution_count": 10,
      "metadata": {
        "colab": {
          "base_uri": "https://localhost:8080/"
        },
        "id": "VG7lc_-PHGOA",
        "outputId": "23c90451-f0f9-4c19-be94-1a9274527a96"
      },
      "outputs": [
        {
          "data": {
            "text/plain": [
              "DatetimeIndex(['2018-01-03 14:07:00', '2018-01-03 14:53:00',\n",
              "               '2018-01-04 09:20:00', '2018-01-04 11:12:00',\n",
              "               '2018-01-04 15:19:00', '2018-01-05 10:14:00',\n",
              "               '2018-01-05 13:31:00', '2018-01-08 13:39:00',\n",
              "               '2018-01-09 09:59:00', '2018-01-09 11:41:00',\n",
              "               ...\n",
              "               '2021-11-03 11:11:00', '2021-11-04 10:34:00',\n",
              "               '2021-11-05 10:12:00', '2021-11-08 09:37:00',\n",
              "               '2021-11-08 10:03:00', '2021-11-09 09:28:00',\n",
              "               '2021-11-09 10:10:00', '2021-11-10 10:15:00',\n",
              "               '2021-11-11 10:02:00', '2021-11-11 10:23:00'],\n",
              "              dtype='datetime64[ns]', length=1398, freq=None)"
            ]
          },
          "execution_count": 10,
          "metadata": {},
          "output_type": "execute_result"
        }
      ],
      "source": [
        "entrance"
      ]
    },
    {
      "cell_type": "code",
      "execution_count": 12,
      "metadata": {
        "colab": {
          "base_uri": "https://localhost:8080/"
        },
        "id": "xP9W5VYRK5FG",
        "outputId": "f9fbaf82-1e4e-4c53-d3ae-c392bd30b549"
      },
      "outputs": [
        {
          "data": {
            "text/plain": [
              "DatetimeIndex(['2018-01-03 14:10:00', '2018-01-03 14:56:00',\n",
              "               '2018-01-04 09:23:00', '2018-01-04 11:15:00',\n",
              "               '2018-01-04 15:22:00', '2018-01-05 10:17:00',\n",
              "               '2018-01-05 13:34:00', '2018-01-08 13:41:00',\n",
              "               '2018-01-09 10:02:00', '2018-01-09 11:44:00',\n",
              "               ...\n",
              "               '2021-11-03 11:14:00', '2021-11-04 10:37:00',\n",
              "               '2021-11-05 10:15:00', '2021-11-08 09:40:00',\n",
              "               '2021-11-08 10:06:00', '2021-11-09 09:31:00',\n",
              "               '2021-11-09 10:13:00', '2021-11-10 10:18:00',\n",
              "               '2021-11-11 10:05:00', '2021-11-11 10:26:00'],\n",
              "              dtype='datetime64[ns]', length=1398, freq=None)"
            ]
          },
          "execution_count": 12,
          "metadata": {},
          "output_type": "execute_result"
        }
      ],
      "source": [
        "exit_"
      ]
    },
    {
      "cell_type": "code",
      "execution_count": 14,
      "metadata": {
        "id": "e7xo4raWDq5s"
      },
      "outputs": [],
      "source": [
        "kq150_data['side'] = np.NaN"
      ]
    },
    {
      "cell_type": "code",
      "execution_count": 15,
      "metadata": {
        "colab": {
          "base_uri": "https://localhost:8080/",
          "height": 238
        },
        "id": "J71QjYeLKsEu",
        "outputId": "f0fd2aa9-0616-4c23-8847-8698b9a704a5"
      },
      "outputs": [
        {
          "data": {
            "text/html": [
              "<div>\n",
              "<style scoped>\n",
              "    .dataframe tbody tr th:only-of-type {\n",
              "        vertical-align: middle;\n",
              "    }\n",
              "\n",
              "    .dataframe tbody tr th {\n",
              "        vertical-align: top;\n",
              "    }\n",
              "\n",
              "    .dataframe thead th {\n",
              "        text-align: right;\n",
              "    }\n",
              "</style>\n",
              "<table border=\"1\" class=\"dataframe\">\n",
              "  <thead>\n",
              "    <tr style=\"text-align: right;\">\n",
              "      <th></th>\n",
              "      <th>Open</th>\n",
              "      <th>High</th>\n",
              "      <th>Low</th>\n",
              "      <th>Close</th>\n",
              "      <th>side</th>\n",
              "    </tr>\n",
              "    <tr>\n",
              "      <th>Date-Time</th>\n",
              "      <th></th>\n",
              "      <th></th>\n",
              "      <th></th>\n",
              "      <th></th>\n",
              "      <th></th>\n",
              "    </tr>\n",
              "  </thead>\n",
              "  <tbody>\n",
              "    <tr>\n",
              "      <th>2016-01-04 10:00:00</th>\n",
              "      <td>1090.0</td>\n",
              "      <td>1092.0</td>\n",
              "      <td>1090.0</td>\n",
              "      <td>1092.0</td>\n",
              "      <td>NaN</td>\n",
              "    </tr>\n",
              "    <tr>\n",
              "      <th>2016-01-04 10:01:00</th>\n",
              "      <td>1092.0</td>\n",
              "      <td>1093.0</td>\n",
              "      <td>1092.0</td>\n",
              "      <td>1093.0</td>\n",
              "      <td>NaN</td>\n",
              "    </tr>\n",
              "    <tr>\n",
              "      <th>2016-01-04 10:02:00</th>\n",
              "      <td>1093.0</td>\n",
              "      <td>1093.0</td>\n",
              "      <td>1093.0</td>\n",
              "      <td>1093.0</td>\n",
              "      <td>NaN</td>\n",
              "    </tr>\n",
              "    <tr>\n",
              "      <th>2016-01-04 10:03:00</th>\n",
              "      <td>1093.0</td>\n",
              "      <td>1093.0</td>\n",
              "      <td>1093.0</td>\n",
              "      <td>1093.0</td>\n",
              "      <td>NaN</td>\n",
              "    </tr>\n",
              "    <tr>\n",
              "      <th>2016-01-04 10:04:00</th>\n",
              "      <td>1092.7</td>\n",
              "      <td>1092.7</td>\n",
              "      <td>1092.5</td>\n",
              "      <td>1092.5</td>\n",
              "      <td>NaN</td>\n",
              "    </tr>\n",
              "  </tbody>\n",
              "</table>\n",
              "</div>"
            ],
            "text/plain": [
              "                       Open    High     Low   Close  side\n",
              "Date-Time                                                \n",
              "2016-01-04 10:00:00  1090.0  1092.0  1090.0  1092.0   NaN\n",
              "2016-01-04 10:01:00  1092.0  1093.0  1092.0  1093.0   NaN\n",
              "2016-01-04 10:02:00  1093.0  1093.0  1093.0  1093.0   NaN\n",
              "2016-01-04 10:03:00  1093.0  1093.0  1093.0  1093.0   NaN\n",
              "2016-01-04 10:04:00  1092.7  1092.7  1092.5  1092.5   NaN"
            ]
          },
          "execution_count": 15,
          "metadata": {},
          "output_type": "execute_result"
        }
      ],
      "source": [
        "kq150_data.head()"
      ]
    },
    {
      "cell_type": "code",
      "execution_count": 16,
      "metadata": {
        "colab": {
          "base_uri": "https://localhost:8080/"
        },
        "id": "_KYMFaR6OeIi",
        "outputId": "06bff3b8-c7a3-47c8-d3bb-4aeb934ef8f2"
      },
      "outputs": [
        {
          "data": {
            "text/plain": [
              "Timestamp('2016-01-04 10:00:00')"
            ]
          },
          "execution_count": 16,
          "metadata": {},
          "output_type": "execute_result"
        }
      ],
      "source": [
        "kq150_data.index[0]"
      ]
    },
    {
      "cell_type": "code",
      "execution_count": 17,
      "metadata": {
        "id": "cBJn0JkYGUqb"
      },
      "outputs": [],
      "source": [
        "for idx in range(120000,len(kq150_data.index)):\n",
        "    if kq150_data.index[idx] in entrance:\n",
        "        kq150_data['side'][idx] = 1\n",
        "        # print(idx)\n",
        "    if kq150_data.index[idx] in exit_:\n",
        "        kq150_data['side'][idx] = -1\n",
        "        # print(idx)"
      ]
    },
    {
      "cell_type": "code",
      "execution_count": 18,
      "metadata": {
        "colab": {
          "base_uri": "https://localhost:8080/"
        },
        "id": "uoWw2B4WJ0nD",
        "outputId": "04a43c3f-5435-4d32-f6b7-afe8eb480a37"
      },
      "outputs": [
        {
          "data": {
            "text/plain": [
              "1.0"
            ]
          },
          "execution_count": 18,
          "metadata": {},
          "output_type": "execute_result"
        }
      ],
      "source": [
        "kq150_data['side'][374267]"
      ]
    },
    {
      "cell_type": "code",
      "execution_count": 19,
      "metadata": {
        "colab": {
          "base_uri": "https://localhost:8080/",
          "height": 238
        },
        "id": "8BO_HaWDPhVg",
        "outputId": "1de017fe-5236-4285-e387-fd764321c186"
      },
      "outputs": [
        {
          "data": {
            "text/html": [
              "<div>\n",
              "<style scoped>\n",
              "    .dataframe tbody tr th:only-of-type {\n",
              "        vertical-align: middle;\n",
              "    }\n",
              "\n",
              "    .dataframe tbody tr th {\n",
              "        vertical-align: top;\n",
              "    }\n",
              "\n",
              "    .dataframe thead th {\n",
              "        text-align: right;\n",
              "    }\n",
              "</style>\n",
              "<table border=\"1\" class=\"dataframe\">\n",
              "  <thead>\n",
              "    <tr style=\"text-align: right;\">\n",
              "      <th></th>\n",
              "      <th>Open</th>\n",
              "      <th>High</th>\n",
              "      <th>Low</th>\n",
              "      <th>Close</th>\n",
              "      <th>side</th>\n",
              "    </tr>\n",
              "    <tr>\n",
              "      <th>Date-Time</th>\n",
              "      <th></th>\n",
              "      <th></th>\n",
              "      <th></th>\n",
              "      <th></th>\n",
              "      <th></th>\n",
              "    </tr>\n",
              "  </thead>\n",
              "  <tbody>\n",
              "    <tr>\n",
              "      <th>2016-01-04 10:00:00</th>\n",
              "      <td>1090.0</td>\n",
              "      <td>1092.0</td>\n",
              "      <td>1090.0</td>\n",
              "      <td>1092.0</td>\n",
              "      <td>NaN</td>\n",
              "    </tr>\n",
              "    <tr>\n",
              "      <th>2016-01-04 10:01:00</th>\n",
              "      <td>1092.0</td>\n",
              "      <td>1093.0</td>\n",
              "      <td>1092.0</td>\n",
              "      <td>1093.0</td>\n",
              "      <td>NaN</td>\n",
              "    </tr>\n",
              "    <tr>\n",
              "      <th>2016-01-04 10:02:00</th>\n",
              "      <td>1093.0</td>\n",
              "      <td>1093.0</td>\n",
              "      <td>1093.0</td>\n",
              "      <td>1093.0</td>\n",
              "      <td>NaN</td>\n",
              "    </tr>\n",
              "    <tr>\n",
              "      <th>2016-01-04 10:03:00</th>\n",
              "      <td>1093.0</td>\n",
              "      <td>1093.0</td>\n",
              "      <td>1093.0</td>\n",
              "      <td>1093.0</td>\n",
              "      <td>NaN</td>\n",
              "    </tr>\n",
              "    <tr>\n",
              "      <th>2016-01-04 10:04:00</th>\n",
              "      <td>1092.7</td>\n",
              "      <td>1092.7</td>\n",
              "      <td>1092.5</td>\n",
              "      <td>1092.5</td>\n",
              "      <td>NaN</td>\n",
              "    </tr>\n",
              "  </tbody>\n",
              "</table>\n",
              "</div>"
            ],
            "text/plain": [
              "                       Open    High     Low   Close  side\n",
              "Date-Time                                                \n",
              "2016-01-04 10:00:00  1090.0  1092.0  1090.0  1092.0   NaN\n",
              "2016-01-04 10:01:00  1092.0  1093.0  1092.0  1093.0   NaN\n",
              "2016-01-04 10:02:00  1093.0  1093.0  1093.0  1093.0   NaN\n",
              "2016-01-04 10:03:00  1093.0  1093.0  1093.0  1093.0   NaN\n",
              "2016-01-04 10:04:00  1092.7  1092.7  1092.5  1092.5   NaN"
            ]
          },
          "execution_count": 19,
          "metadata": {},
          "output_type": "execute_result"
        }
      ],
      "source": [
        "kq150_data.head()"
      ]
    },
    {
      "cell_type": "code",
      "execution_count": 20,
      "metadata": {
        "id": "t4w79hxelX6k"
      },
      "outputs": [],
      "source": [
        "# 2. CS_filter\n",
        "def getTEvents(gRaw,h): #gRaw: dollar['Close'], h:d_vol.mean()\n",
        "    tEvents,sPos,sNeg=[],0,0\n",
        "    diff=gRaw.diff()\n",
        "    h = float(h)\n",
        "    for i in diff.index[1:]:\n",
        "        sPos,sNeg=float(max(0,sPos+diff.loc[i])),float(min(0,sNeg+diff.loc[i]))\n",
        "        if sNeg<-h:\n",
        "            sNeg=0;tEvents.append(i)\n",
        "        elif sPos>h:\n",
        "            sPos=0;tEvents.append(i)\n",
        "    return pd.DatetimeIndex(tEvents)"
      ]
    },
    {
      "cell_type": "code",
      "execution_count": 21,
      "metadata": {
        "colab": {
          "base_uri": "https://localhost:8080/"
        },
        "id": "ObMOJhm8lX6l",
        "outputId": "a70db6af-cedc-4884-b26a-6f315ca31067"
      },
      "outputs": [
        {
          "data": {
            "text/plain": [
              "DatetimeIndex(['2016-01-04 10:01:00', '2016-01-04 10:04:00',\n",
              "               '2016-01-04 10:05:00', '2016-01-04 10:06:00',\n",
              "               '2016-01-04 10:07:00', '2016-01-04 10:09:00',\n",
              "               '2016-01-04 10:11:00', '2016-01-04 10:16:00',\n",
              "               '2016-01-04 10:18:00', '2016-01-04 10:19:00',\n",
              "               ...\n",
              "               '2023-04-25 15:26:00', '2023-04-25 15:27:00',\n",
              "               '2023-04-25 15:28:00', '2023-04-25 15:29:00',\n",
              "               '2023-04-25 15:30:00', '2023-04-25 15:31:00',\n",
              "               '2023-04-25 15:32:00', '2023-04-25 15:33:00',\n",
              "               '2023-04-25 15:34:00', '2023-04-25 15:45:00'],\n",
              "              dtype='datetime64[ns]', length=589081, freq=None)"
            ]
          },
          "execution_count": 21,
          "metadata": {},
          "output_type": "execute_result"
        }
      ],
      "source": [
        "tEvents = getTEvents(kq150_data['Close'], parkinson_vol.mean())\n",
        "tEvents"
      ]
    },
    {
      "cell_type": "code",
      "execution_count": 22,
      "metadata": {
        "id": "kbfAvEwolX6m"
      },
      "outputs": [],
      "source": [
        "# 3. Tripple Barrier Labeling\n",
        "def applyPtSlOnT1(close,events,ptSl,molecule):\n",
        "    \n",
        "    '''\n",
        "    Tripple-barrier labeling method\n",
        "    ` Apply stop loss/profit taking, if it takes place before t1 (end of event)\n",
        "\n",
        "    Input: \n",
        "    ` events: \n",
        "      — t1: the timestamp of vertical barrier\n",
        "      — trgt: the unit width of the horizontal barriers, expressed in terms of absolute returns\n",
        "    ` ptsl: a list of two non-negative float values\n",
        "      - ptsl[0]: the factor multiplies trgt to set the width of the upper barrier\n",
        "      - ptsl[1]: the factor that multiplies trgt to set the width of the lower barrier\n",
        "    ` molecule: a list with the subset of event indices \n",
        "\n",
        "    Output: a Dataframe containing the timestamps at which each barrier was touched, [pt, s1, t1]\n",
        "    ` 0 (inactive barrier) or 1 (active barrier)\n",
        "\n",
        "    '''\n",
        "    #events_=events.loc[molecule]\n",
        "    events_=events\n",
        "    out=events_[['t1']].copy(deep=True)\n",
        "    if ptSl[0]>0:pt=ptSl[0]*events_['trgt']\n",
        "    else:pt=pd.Series(index=events.index) # NaNs\n",
        "    if ptSl[1]>0:sl=-ptSl[1]*events_['trgt']\n",
        "    else:sl=pd.Series(index=events.index) # NaNs\n",
        "    for loc,t1 in events_['t1'].fillna(close.index[-1]).items():\n",
        "        df0=close[loc:t1] # path prices\n",
        "        df0=(df0/close[loc]-1)*events_.at[loc,'side'] # path returns\n",
        "        out.loc[loc,'sl']=df0[df0<sl[loc]].index.min() # earliest stop loss.\n",
        "        out.loc[loc,'pt']=df0[df0>pt[loc]].index.min() # earliest profit taking.\n",
        "    return out\n"
      ]
    },
    {
      "cell_type": "markdown",
      "metadata": {},
      "source": [
        "# MultiProcessing"
      ]
    },
    {
      "cell_type": "code",
      "execution_count": 23,
      "metadata": {
        "id": "bZHx3doOlX6m"
      },
      "outputs": [],
      "source": [
        "# 20.4.1 - mpPandasObj\n",
        "def linParts(numAtoms,numThreads):\n",
        "    # partition of atoms with a single loop\n",
        "    parts=np.linspace(0,numAtoms,min(numThreads,numAtoms)+1)\n",
        "    parts=np.ceil(parts).astype(int)\n",
        "    print(parts)\n",
        "    return parts"
      ]
    },
    {
      "cell_type": "code",
      "execution_count": 24,
      "metadata": {
        "id": "GxBnQzK8lX6n"
      },
      "outputs": [],
      "source": [
        "# 20.4.1 - mpPandasObj\n",
        "def nestedParts(numAtoms,numThreads,upperTriang=False):\n",
        "    # partition of atoms with an inner loop\n",
        "    parts,numThreads_=[0],min(numThreads,numAtoms)\n",
        "    for num in range(numThreads_):\n",
        "        part=1+4*(parts[-1]**2+parts[-1]+numAtoms*(numAtoms+1.)/numThreads_)\n",
        "        part=(-1+part**.5)/2.\n",
        "        parts.append(part)\n",
        "    parts=np.round(parts).astype(int)\n",
        "    if upperTriang: # the first rows are heaviest\n",
        "        parts=np.cumsum(np.diff(parts)[::-1])\n",
        "        parts=np.append(np.array([0]),parts)\n",
        "    print(\"nestedParts: \", len(parts))\n",
        "    return parts"
      ]
    },
    {
      "cell_type": "code",
      "execution_count": 25,
      "metadata": {
        "id": "mM1tzu_dlX6n"
      },
      "outputs": [],
      "source": [
        "# 20.10\n",
        "def expandCall(kargs):\n",
        "    # Expand the arguments of a callback function, kargs['func']\n",
        "    func=kargs['func']\n",
        "    del kargs['func']\n",
        "    out=func(**kargs)\n",
        "    print(\"ExpandCall: \", len(out))\n",
        "    return out"
      ]
    },
    {
      "cell_type": "code",
      "execution_count": 26,
      "metadata": {
        "id": "MvNH-YVslX6o"
      },
      "outputs": [],
      "source": [
        "# 20.8 - mpPandasObj\n",
        "def processJobs_(jobs):\n",
        "    # Run jobs sequentially, for debugging\n",
        "    out=[]\n",
        "    for job in jobs:\n",
        "        out_=expandCall(job)\n",
        "        out.append(out_)\n",
        "    print(\"processJobs_: \", len(out))\n",
        "    return out"
      ]
    },
    {
      "cell_type": "code",
      "execution_count": 27,
      "metadata": {
        "id": "pjQcZGnOlX6o"
      },
      "outputs": [],
      "source": [
        "# 4. Multiprocessing Obj\n",
        "def mpPandasObj(func,pdObj,numThreads=24,mpBatches=1,linMols=True,**kargs):\n",
        "    '''\n",
        "    Parallelize jobs, return a dataframe or series\n",
        "    + func: function to be parallelized. Returns a DataFrame\n",
        "    + pdObj[0]: Name of argument used to pass the molecule\n",
        "    + pdObj[1]: List of atoms that will be grouped into molecules\n",
        "    + kwds: any other argument needed by func\n",
        "    \n",
        "    Example: df1=mpPandasObj(func,('molecule',df0.index),24,**kwds)\n",
        "    '''\n",
        "    import pandas as pd\n",
        "    #if linMols:parts=linParts(len(argList[1]),numThreads*mpBatches)\n",
        "    #else:parts=nestedParts(len(argList[1]),numThreads*mpBatches)\n",
        "    if linMols:parts=linParts(len(pdObj[1]),numThreads*mpBatches)\n",
        "    else:parts=nestedParts(len(pdObj[1]),numThreads*mpBatches)\n",
        "    \n",
        "    jobs=[]\n",
        "    for i in range(1,len(parts)):\n",
        "        job={pdObj[0]:pdObj[1][parts[i-1]:parts[i]],'func':func}\n",
        "        job.update(kargs)\n",
        "        jobs.append(job)\n",
        "    print(\"jobs: \", len(jobs))\n",
        "    if numThreads==1:out=processJobs_(jobs)\n",
        "    else: out=processJobs(jobs,numThreads=numThreads)\n",
        "    if isinstance(out[0],pd.DataFrame):df0=pd.DataFrame()\n",
        "    elif isinstance(out[0],pd.Series):df0=pd.Series()\n",
        "    else:return out\n",
        "    for i in out:df0=pd.concat([df0,i]) #df0=df0.append(i)\n",
        "    df0=df0.sort_index()\n",
        "    return df0"
      ]
    },
    {
      "cell_type": "markdown",
      "metadata": {},
      "source": [
        "# Meta Labeling"
      ]
    },
    {
      "cell_type": "code",
      "execution_count": 28,
      "metadata": {
        "id": "qhfaX7PrlX6o"
      },
      "outputs": [],
      "source": [
        "# 5. Get the First Time of Touch\n",
        "def getEvents(close,tEvents,ptSl,trgt,minRet,numThreads,t1=False,side=None):\n",
        "    '''\n",
        "    Getting the time of first touch\n",
        "     \n",
        "    Input:\n",
        "    ` tEvents: the pandas timeindex containing the timestamps that will seed every triple barrier \n",
        "      - the timestamps selected by the sampling procedures \n",
        "    ` minRet: the minimum target return required for running a triple barrier search\n",
        "    ` numThreads: the number of threads concurrently used by the function  \n",
        "\n",
        "    Output: \n",
        "    ` events: a Dataframe\n",
        "      - events.index: event's starttime\n",
        "      - events['t1']: event's endtime\n",
        "      - events['trgt']: event's target\n",
        "      - events['side'] (optional): the algo's position side\n",
        "    '''\n",
        "    #1) get target\n",
        "    trgt=trgt.loc[tEvents]\n",
        "    trgt=trgt[trgt>minRet] # minRet\n",
        "    print(trgt.index)\n",
        "    #2) get t1 (max holding period)\n",
        "    if t1 is False:t1=pd.Series(pd.NaT,index=tEvents)\n",
        "    #3) form events object, apply stop loss on t1\n",
        "    if side is None:side_,ptSl_=pd.Series(1.,index=trgt.index),[ptSl[0],ptSl[0]]\n",
        "    else:side_,ptSl_=side.loc[trgt.index],ptSl[:2]\n",
        "    events=pd.concat({'t1':t1,'trgt':trgt,'side':side_}, axis=1).droplevel(1, axis=1).dropna(subset=['trgt'])\n",
        "    # print(events.index)\n",
        "    df0=mpPandasObj(func=applyPtSlOnT1,pdObj=('molecule',events.index), numThreads=numThreads,close=close,events=events,ptSl=ptSl_)\n",
        "    # print(\"event['t1']: \", events['t1'])\n",
        "    events['t1']=df0.dropna(how='all').min(axis=1) # pd.min ignores nan\n",
        "    if side is None:events=events.drop('side',axis=1)\n",
        "    return events\n"
      ]
    },
    {
      "cell_type": "code",
      "execution_count": 29,
      "metadata": {
        "id": "wfiS0mi6lX6o"
      },
      "outputs": [],
      "source": [
        "#Vertical Barrier\n",
        "def addVerticalBarrier(close, events, numDays=1):\n",
        "    t1=close.index.searchsorted(events+pd.Timedelta(days=numDays))\n",
        "    t1=t1[t1<close.shape[0]]\n",
        "    t1=pd.Series(close.index[t1],index=events[:t1.shape[0]]) # NaNs at end\n",
        "    return t1"
      ]
    },
    {
      "cell_type": "code",
      "execution_count": 30,
      "metadata": {
        "colab": {
          "base_uri": "https://localhost:8080/"
        },
        "id": "FMnoiEvNlX6p",
        "outputId": "dec6e99c-bbc5-476d-ce77-2fc08959e5cb"
      },
      "outputs": [
        {
          "data": {
            "text/plain": [
              "2016-01-04 10:01:00   2016-01-05 10:01:00\n",
              "2016-01-04 10:04:00   2016-01-05 10:04:00\n",
              "2016-01-04 10:05:00   2016-01-05 10:05:00\n",
              "2016-01-04 10:06:00   2016-01-05 10:06:00\n",
              "2016-01-04 10:07:00   2016-01-05 10:07:00\n",
              "                              ...        \n",
              "2023-04-24 15:31:00   2023-04-25 15:31:00\n",
              "2023-04-24 15:32:00   2023-04-25 15:32:00\n",
              "2023-04-24 15:33:00   2023-04-25 15:33:00\n",
              "2023-04-24 15:34:00   2023-04-25 15:34:00\n",
              "2023-04-24 15:45:00   2023-04-25 15:45:00\n",
              "Name: Date-Time, Length: 588703, dtype: datetime64[ns]"
            ]
          },
          "execution_count": 30,
          "metadata": {},
          "output_type": "execute_result"
        }
      ],
      "source": [
        "t1 = addVerticalBarrier(kq150_data['Close'], tEvents, 1)\n",
        "t1"
      ]
    },
    {
      "cell_type": "code",
      "execution_count": 31,
      "metadata": {
        "id": "JSqZRXuBlX6p"
      },
      "outputs": [],
      "source": [
        "# create target series\n",
        "ptsl = [1,1]\n",
        "target=parkinson_vol\n",
        "# select minRet\n",
        "minRet = 0.000505\n",
        "\n",
        "# Run in single-threaded mode on Windows\n",
        "from multiprocessing import cpu_count\n",
        "import platform\n",
        "if platform.system() == \"Windows\":\n",
        "    cpus = 1\n",
        "else:\n",
        "    cpus = cpu_count() - 1\n"
      ]
    },
    {
      "cell_type": "code",
      "execution_count": 32,
      "metadata": {
        "colab": {
          "base_uri": "https://localhost:8080/",
          "height": 503
        },
        "id": "m404hwxmlX6p",
        "outputId": "a6c9dbc6-a4cb-4d05-8e90-c6b15af51224"
      },
      "outputs": [
        {
          "name": "stdout",
          "output_type": "stream",
          "text": [
            "DatetimeIndex(['2016-01-04 10:01:00', '2016-01-04 10:04:00',\n",
            "               '2016-01-04 10:05:00', '2016-01-04 10:06:00',\n",
            "               '2016-01-04 10:07:00', '2016-01-04 10:09:00',\n",
            "               '2016-01-04 10:11:00', '2016-01-04 10:16:00',\n",
            "               '2016-01-04 10:18:00', '2016-01-04 10:19:00',\n",
            "               ...\n",
            "               '2023-04-25 15:26:00', '2023-04-25 15:27:00',\n",
            "               '2023-04-25 15:28:00', '2023-04-25 15:29:00',\n",
            "               '2023-04-25 15:30:00', '2023-04-25 15:31:00',\n",
            "               '2023-04-25 15:32:00', '2023-04-25 15:33:00',\n",
            "               '2023-04-25 15:34:00', '2023-04-25 15:45:00'],\n",
            "              dtype='datetime64[ns]', length=589081, freq=None)\n",
            "[     0 236973]\n",
            "jobs:  1\n",
            "ExpandCall:  236973\n",
            "processJobs_:  1\n"
          ]
        },
        {
          "data": {
            "text/html": [
              "<div>\n",
              "<style scoped>\n",
              "    .dataframe tbody tr th:only-of-type {\n",
              "        vertical-align: middle;\n",
              "    }\n",
              "\n",
              "    .dataframe tbody tr th {\n",
              "        vertical-align: top;\n",
              "    }\n",
              "\n",
              "    .dataframe thead th {\n",
              "        text-align: right;\n",
              "    }\n",
              "</style>\n",
              "<table border=\"1\" class=\"dataframe\">\n",
              "  <thead>\n",
              "    <tr style=\"text-align: right;\">\n",
              "      <th></th>\n",
              "      <th>t1</th>\n",
              "      <th>trgt</th>\n",
              "      <th>side</th>\n",
              "    </tr>\n",
              "  </thead>\n",
              "  <tbody>\n",
              "    <tr>\n",
              "      <th>2016-01-04 11:09:00</th>\n",
              "      <td>2016-01-05 11:09:00</td>\n",
              "      <td>0.000548</td>\n",
              "      <td>NaN</td>\n",
              "    </tr>\n",
              "    <tr>\n",
              "      <th>2016-01-04 11:10:00</th>\n",
              "      <td>2016-01-05 11:10:00</td>\n",
              "      <td>0.000699</td>\n",
              "      <td>NaN</td>\n",
              "    </tr>\n",
              "    <tr>\n",
              "      <th>2016-01-04 11:11:00</th>\n",
              "      <td>2016-01-05 11:11:00</td>\n",
              "      <td>0.000698</td>\n",
              "      <td>NaN</td>\n",
              "    </tr>\n",
              "    <tr>\n",
              "      <th>2016-01-04 11:12:00</th>\n",
              "      <td>2016-01-05 11:12:00</td>\n",
              "      <td>0.000698</td>\n",
              "      <td>NaN</td>\n",
              "    </tr>\n",
              "    <tr>\n",
              "      <th>2016-01-04 11:13:00</th>\n",
              "      <td>2016-01-05 11:13:00</td>\n",
              "      <td>0.000698</td>\n",
              "      <td>NaN</td>\n",
              "    </tr>\n",
              "  </tbody>\n",
              "</table>\n",
              "</div>"
            ],
            "text/plain": [
              "                                     t1      trgt  side\n",
              "2016-01-04 11:09:00 2016-01-05 11:09:00  0.000548   NaN\n",
              "2016-01-04 11:10:00 2016-01-05 11:10:00  0.000699   NaN\n",
              "2016-01-04 11:11:00 2016-01-05 11:11:00  0.000698   NaN\n",
              "2016-01-04 11:12:00 2016-01-05 11:12:00  0.000698   NaN\n",
              "2016-01-04 11:13:00 2016-01-05 11:13:00  0.000698   NaN"
            ]
          },
          "execution_count": 32,
          "metadata": {},
          "output_type": "execute_result"
        }
      ],
      "source": [
        "events = getEvents(kq150_data['Close'],tEvents,ptsl,target,minRet,cpus,t1=t1, side=kq150_data['side'])\n",
        "\n",
        "# 최종적인 Tripple Barrier Output\n",
        "events.head()"
      ]
    },
    {
      "cell_type": "code",
      "execution_count": 38,
      "metadata": {},
      "outputs": [],
      "source": [
        "#events.to_csv('tri_barrier.csv')"
      ]
    },
    {
      "cell_type": "markdown",
      "metadata": {
        "id": "AnxuMgM0lX6p"
      },
      "source": [
        "### Meta-labeling"
      ]
    },
    {
      "cell_type": "code",
      "execution_count": 39,
      "metadata": {
        "id": "fEunCrUOlX6r"
      },
      "outputs": [],
      "source": [
        "def getBins(events,close,t1):\n",
        "    '''\n",
        "    Labeling for side and size\n",
        "    Input:\n",
        "    ` events: a Dataframe\n",
        "      - events.index: event's startime\n",
        "      - events['t1']: event's endtime\n",
        "      - events['trgt']: target\n",
        "      - events['side']: algo's position side (optional)\n",
        "    `t1: original vertical barrier\n",
        "         \n",
        "    Output:\n",
        "    ` ret: the return realized at the time of the first touched barrier\n",
        "    ` bin: the label as a function of the sign of the outcome \n",
        "      - Case 1: ('side' not in events): bin in (-1,1) <- label by price action (standard labeling)\n",
        "      - Case 2: ('side' in events): bin in (0,1), i.e. pass or bet <- label by pnl (meta-labeling) \n",
        "    '''\n",
        "    #1) prices aligned with events\n",
        "    events_=events.dropna(subset=['t1'])\n",
        "    px=events_.index.union(events_['t1'].values).drop_duplicates()\n",
        "    px=close.reindex(px,method='bfill')\n",
        "\n",
        "    #2) create out object\n",
        "    out=pd.DataFrame(index=events_.index)\n",
        "    out['ret']=px.loc[events_['t1'].values].values/px.loc[events_.index]-1\n",
        "    if 'side' in events_:\n",
        "        out['ret'] *= events_['side']\n",
        "    out['bin']=np.sign(out['ret'])  # -1, 0, 1 value return\n",
        "\n",
        "    if 'side' in events_:\n",
        "        out.loc[out['ret']<=0, 'bin'] = 0 # meta-labeling\n",
        "    else: \n",
        "        # update binary->0 when vertical barrier is touched\n",
        "        # when not meta-labeling\n",
        "        ver_first_idx = events[events['t1'].isin(t1.values)].index\n",
        "        out.loc[ver_first_idx, 'bin'] = 0\n",
        "\n",
        "    return out\n"
      ]
    },
    {
      "cell_type": "code",
      "execution_count": 34,
      "metadata": {
        "id": "M2LDxhcNlX6r"
      },
      "outputs": [],
      "source": [
        "def dropLabels(events,minPct=.05):\n",
        "    '''\n",
        "    Apply weights, drop labels with insufficient examples\n",
        "\n",
        "    '''\n",
        "    while True:\n",
        "        df0=events['bin'].value_counts(normalize=True)\n",
        "        if df0.min()>minPct or df0.shape[0]<3: break\n",
        "        print('dropped label',df0.argmin(),df0.min())\n",
        "        events=events[events['bin']!=df0.argmin()]\n",
        "    return events"
      ]
    },
    {
      "cell_type": "code",
      "execution_count": 35,
      "metadata": {
        "colab": {
          "base_uri": "https://localhost:8080/",
          "height": 424
        },
        "id": "fHysfYdqlX6s",
        "outputId": "61706331-ddd6-4c83-938f-2c086d50bf12"
      },
      "outputs": [
        {
          "data": {
            "text/html": [
              "<div>\n",
              "<style scoped>\n",
              "    .dataframe tbody tr th:only-of-type {\n",
              "        vertical-align: middle;\n",
              "    }\n",
              "\n",
              "    .dataframe tbody tr th {\n",
              "        vertical-align: top;\n",
              "    }\n",
              "\n",
              "    .dataframe thead th {\n",
              "        text-align: right;\n",
              "    }\n",
              "</style>\n",
              "<table border=\"1\" class=\"dataframe\">\n",
              "  <thead>\n",
              "    <tr style=\"text-align: right;\">\n",
              "      <th></th>\n",
              "      <th>ret</th>\n",
              "      <th>bin</th>\n",
              "    </tr>\n",
              "  </thead>\n",
              "  <tbody>\n",
              "    <tr>\n",
              "      <th>2016-01-04 11:09:00</th>\n",
              "      <td>NaN</td>\n",
              "      <td>NaN</td>\n",
              "    </tr>\n",
              "    <tr>\n",
              "      <th>2016-01-04 11:10:00</th>\n",
              "      <td>NaN</td>\n",
              "      <td>NaN</td>\n",
              "    </tr>\n",
              "    <tr>\n",
              "      <th>2016-01-04 11:11:00</th>\n",
              "      <td>NaN</td>\n",
              "      <td>NaN</td>\n",
              "    </tr>\n",
              "    <tr>\n",
              "      <th>2016-01-04 11:12:00</th>\n",
              "      <td>NaN</td>\n",
              "      <td>NaN</td>\n",
              "    </tr>\n",
              "    <tr>\n",
              "      <th>2016-01-04 11:13:00</th>\n",
              "      <td>NaN</td>\n",
              "      <td>NaN</td>\n",
              "    </tr>\n",
              "    <tr>\n",
              "      <th>...</th>\n",
              "      <td>...</td>\n",
              "      <td>...</td>\n",
              "    </tr>\n",
              "    <tr>\n",
              "      <th>2023-04-24 15:22:00</th>\n",
              "      <td>NaN</td>\n",
              "      <td>NaN</td>\n",
              "    </tr>\n",
              "    <tr>\n",
              "      <th>2023-04-24 15:30:00</th>\n",
              "      <td>NaN</td>\n",
              "      <td>NaN</td>\n",
              "    </tr>\n",
              "    <tr>\n",
              "      <th>2023-04-24 15:31:00</th>\n",
              "      <td>NaN</td>\n",
              "      <td>NaN</td>\n",
              "    </tr>\n",
              "    <tr>\n",
              "      <th>2023-04-24 15:32:00</th>\n",
              "      <td>NaN</td>\n",
              "      <td>NaN</td>\n",
              "    </tr>\n",
              "    <tr>\n",
              "      <th>2023-04-24 15:33:00</th>\n",
              "      <td>NaN</td>\n",
              "      <td>NaN</td>\n",
              "    </tr>\n",
              "  </tbody>\n",
              "</table>\n",
              "<p>236668 rows × 2 columns</p>\n",
              "</div>"
            ],
            "text/plain": [
              "                     ret  bin\n",
              "2016-01-04 11:09:00  NaN  NaN\n",
              "2016-01-04 11:10:00  NaN  NaN\n",
              "2016-01-04 11:11:00  NaN  NaN\n",
              "2016-01-04 11:12:00  NaN  NaN\n",
              "2016-01-04 11:13:00  NaN  NaN\n",
              "...                  ...  ...\n",
              "2023-04-24 15:22:00  NaN  NaN\n",
              "2023-04-24 15:30:00  NaN  NaN\n",
              "2023-04-24 15:31:00  NaN  NaN\n",
              "2023-04-24 15:32:00  NaN  NaN\n",
              "2023-04-24 15:33:00  NaN  NaN\n",
              "\n",
              "[236668 rows x 2 columns]"
            ]
          },
          "execution_count": 35,
          "metadata": {},
          "output_type": "execute_result"
        }
      ],
      "source": [
        "# triple barrier을 통해 얻은 event값을 넣어 meta-labeling\n",
        "m_events = getBins(events, kq150_data['Close'], t1)  # t1=vertical barrier\n",
        "m_label = dropLabels(m_events, minPct=.05)  # to get meta label\n",
        "\n",
        "m_label"
      ]
    },
    {
      "cell_type": "code",
      "execution_count": 40,
      "metadata": {},
      "outputs": [],
      "source": [
        "m_label.to_csv('m_label.csv')"
      ]
    },
    {
      "cell_type": "code",
      "execution_count": 41,
      "metadata": {
        "colab": {
          "base_uri": "https://localhost:8080/"
        },
        "id": "ll4CkQ5SlX6t",
        "outputId": "56a2d2ea-1975-4a19-c2ff-0faa0887e49c"
      },
      "outputs": [
        {
          "data": {
            "text/plain": [
              "bin\n",
              "1.0    0.544037\n",
              "0.0    0.455963\n",
              "Name: proportion, dtype: float64"
            ]
          },
          "execution_count": 41,
          "metadata": {},
          "output_type": "execute_result"
        }
      ],
      "source": [
        "m_label['bin'].value_counts(normalize=True)"
      ]
    },
    {
      "cell_type": "code",
      "execution_count": 42,
      "metadata": {
        "colab": {
          "base_uri": "https://localhost:8080/"
        },
        "id": "KEH34k3FVTIu",
        "outputId": "9d09a5f2-d031-40d5-cdd1-bd901b80a1a5"
      },
      "outputs": [
        {
          "data": {
            "text/plain": [
              "236668"
            ]
          },
          "execution_count": 42,
          "metadata": {},
          "output_type": "execute_result"
        }
      ],
      "source": [
        "len(m_label)"
      ]
    },
    {
      "cell_type": "code",
      "execution_count": 43,
      "metadata": {
        "id": "o1QPcNfkVA9m"
      },
      "outputs": [],
      "source": [
        "m_label = m_label[(m_label['bin'] == 0) | (m_label['bin'] == 1)]"
      ]
    },
    {
      "cell_type": "code",
      "execution_count": 44,
      "metadata": {
        "colab": {
          "base_uri": "https://localhost:8080/",
          "height": 424
        },
        "id": "HIFwWKgCdHcV",
        "outputId": "9dc4308d-dd9a-4932-bf2d-8c5f7cee0de7"
      },
      "outputs": [
        {
          "data": {
            "text/html": [
              "<div>\n",
              "<style scoped>\n",
              "    .dataframe tbody tr th:only-of-type {\n",
              "        vertical-align: middle;\n",
              "    }\n",
              "\n",
              "    .dataframe tbody tr th {\n",
              "        vertical-align: top;\n",
              "    }\n",
              "\n",
              "    .dataframe thead th {\n",
              "        text-align: right;\n",
              "    }\n",
              "</style>\n",
              "<table border=\"1\" class=\"dataframe\">\n",
              "  <thead>\n",
              "    <tr style=\"text-align: right;\">\n",
              "      <th></th>\n",
              "      <th>ret</th>\n",
              "      <th>bin</th>\n",
              "    </tr>\n",
              "  </thead>\n",
              "  <tbody>\n",
              "    <tr>\n",
              "      <th>2018-01-03 14:07:00</th>\n",
              "      <td>0.002068</td>\n",
              "      <td>1.0</td>\n",
              "    </tr>\n",
              "    <tr>\n",
              "      <th>2018-01-03 14:10:00</th>\n",
              "      <td>-0.002959</td>\n",
              "      <td>0.0</td>\n",
              "    </tr>\n",
              "    <tr>\n",
              "      <th>2018-01-03 14:53:00</th>\n",
              "      <td>0.000960</td>\n",
              "      <td>1.0</td>\n",
              "    </tr>\n",
              "    <tr>\n",
              "      <th>2018-01-03 14:56:00</th>\n",
              "      <td>0.001917</td>\n",
              "      <td>1.0</td>\n",
              "    </tr>\n",
              "    <tr>\n",
              "      <th>2018-01-04 09:20:00</th>\n",
              "      <td>0.003356</td>\n",
              "      <td>1.0</td>\n",
              "    </tr>\n",
              "    <tr>\n",
              "      <th>...</th>\n",
              "      <td>...</td>\n",
              "      <td>...</td>\n",
              "    </tr>\n",
              "    <tr>\n",
              "      <th>2021-11-10 10:18:00</th>\n",
              "      <td>0.001505</td>\n",
              "      <td>1.0</td>\n",
              "    </tr>\n",
              "    <tr>\n",
              "      <th>2021-11-11 10:02:00</th>\n",
              "      <td>-0.000969</td>\n",
              "      <td>0.0</td>\n",
              "    </tr>\n",
              "    <tr>\n",
              "      <th>2021-11-11 10:05:00</th>\n",
              "      <td>0.001456</td>\n",
              "      <td>1.0</td>\n",
              "    </tr>\n",
              "    <tr>\n",
              "      <th>2021-11-11 10:23:00</th>\n",
              "      <td>-0.001253</td>\n",
              "      <td>0.0</td>\n",
              "    </tr>\n",
              "    <tr>\n",
              "      <th>2021-11-11 10:26:00</th>\n",
              "      <td>0.000766</td>\n",
              "      <td>1.0</td>\n",
              "    </tr>\n",
              "  </tbody>\n",
              "</table>\n",
              "<p>2566 rows × 2 columns</p>\n",
              "</div>"
            ],
            "text/plain": [
              "                          ret  bin\n",
              "2018-01-03 14:07:00  0.002068  1.0\n",
              "2018-01-03 14:10:00 -0.002959  0.0\n",
              "2018-01-03 14:53:00  0.000960  1.0\n",
              "2018-01-03 14:56:00  0.001917  1.0\n",
              "2018-01-04 09:20:00  0.003356  1.0\n",
              "...                       ...  ...\n",
              "2021-11-10 10:18:00  0.001505  1.0\n",
              "2021-11-11 10:02:00 -0.000969  0.0\n",
              "2021-11-11 10:05:00  0.001456  1.0\n",
              "2021-11-11 10:23:00 -0.001253  0.0\n",
              "2021-11-11 10:26:00  0.000766  1.0\n",
              "\n",
              "[2566 rows x 2 columns]"
            ]
          },
          "execution_count": 44,
          "metadata": {},
          "output_type": "execute_result"
        }
      ],
      "source": [
        "m_label"
      ]
    },
    {
      "cell_type": "code",
      "execution_count": 45,
      "metadata": {
        "colab": {
          "base_uri": "https://localhost:8080/"
        },
        "id": "YNdGTWmvcOeE",
        "outputId": "21b0c073-bafb-4bb6-ef75-4191b09c9ab6"
      },
      "outputs": [
        {
          "data": {
            "text/plain": [
              "DatetimeIndex(['2018-01-03 14:07:00', '2018-01-03 14:10:00',\n",
              "               '2018-01-03 14:53:00', '2018-01-03 14:56:00',\n",
              "               '2018-01-04 09:20:00', '2018-01-04 09:23:00',\n",
              "               '2018-01-04 11:12:00', '2018-01-04 11:15:00',\n",
              "               '2018-01-04 15:19:00', '2018-01-04 15:22:00',\n",
              "               ...\n",
              "               '2021-11-09 09:28:00', '2021-11-09 09:31:00',\n",
              "               '2021-11-09 10:10:00', '2021-11-09 10:13:00',\n",
              "               '2021-11-10 10:15:00', '2021-11-10 10:18:00',\n",
              "               '2021-11-11 10:02:00', '2021-11-11 10:05:00',\n",
              "               '2021-11-11 10:23:00', '2021-11-11 10:26:00'],\n",
              "              dtype='datetime64[ns]', length=2566, freq=None)"
            ]
          },
          "execution_count": 45,
          "metadata": {},
          "output_type": "execute_result"
        }
      ],
      "source": [
        "m_label.index"
      ]
    },
    {
      "cell_type": "markdown",
      "metadata": {
        "id": "PBQ53uUTlX6t"
      },
      "source": [
        "### Ensemble Method"
      ]
    },
    {
      "cell_type": "code",
      "execution_count": 46,
      "metadata": {
        "id": "oGRZ0x8clX6t"
      },
      "outputs": [],
      "source": [
        "from sklearn.ensemble import RandomForestClassifier\n",
        "from sklearn.model_selection import train_test_split\n",
        "from sklearn.metrics import roc_curve, classification_report"
      ]
    },
    {
      "cell_type": "code",
      "execution_count": 47,
      "metadata": {
        "id": "6SaDJc80lX6u"
      },
      "outputs": [],
      "source": [
        "max_depth = 3\n",
        "n_estimators = 1000\n",
        "\n",
        "# set randomforest model\n",
        "rf = RandomForestClassifier(\n",
        "    max_depth=max_depth,\n",
        "    n_estimators=n_estimators,\n",
        "    criterion='entropy',\n",
        "    class_weight=None,\n",
        "    random_state=101\n",
        ")"
      ]
    },
    {
      "cell_type": "code",
      "execution_count": 48,
      "metadata": {
        "id": "0O0_5unblX6u"
      },
      "outputs": [],
      "source": [
        "# seperate train/test data\n",
        "X = kq150_data.reindex(m_label.index)\n",
        "y = m_label['bin']\n",
        "\n",
        "X_train, X_test, y_train, y_test = train_test_split(X, y, test_size=0.3, shuffle=False)"
      ]
    },
    {
      "cell_type": "code",
      "execution_count": 49,
      "metadata": {
        "colab": {
          "base_uri": "https://localhost:8080/",
          "height": 92
        },
        "id": "vS0Im59KlX6u",
        "outputId": "e2b097dd-7b9c-4da6-a1ab-7ede65c08c66"
      },
      "outputs": [
        {
          "data": {
            "text/html": [
              "<style>#sk-container-id-1 {\n",
              "  /* Definition of color scheme common for light and dark mode */\n",
              "  --sklearn-color-text: black;\n",
              "  --sklearn-color-line: gray;\n",
              "  /* Definition of color scheme for unfitted estimators */\n",
              "  --sklearn-color-unfitted-level-0: #fff5e6;\n",
              "  --sklearn-color-unfitted-level-1: #f6e4d2;\n",
              "  --sklearn-color-unfitted-level-2: #ffe0b3;\n",
              "  --sklearn-color-unfitted-level-3: chocolate;\n",
              "  /* Definition of color scheme for fitted estimators */\n",
              "  --sklearn-color-fitted-level-0: #f0f8ff;\n",
              "  --sklearn-color-fitted-level-1: #d4ebff;\n",
              "  --sklearn-color-fitted-level-2: #b3dbfd;\n",
              "  --sklearn-color-fitted-level-3: cornflowerblue;\n",
              "\n",
              "  /* Specific color for light theme */\n",
              "  --sklearn-color-text-on-default-background: var(--sg-text-color, var(--theme-code-foreground, var(--jp-content-font-color1, black)));\n",
              "  --sklearn-color-background: var(--sg-background-color, var(--theme-background, var(--jp-layout-color0, white)));\n",
              "  --sklearn-color-border-box: var(--sg-text-color, var(--theme-code-foreground, var(--jp-content-font-color1, black)));\n",
              "  --sklearn-color-icon: #696969;\n",
              "\n",
              "  @media (prefers-color-scheme: dark) {\n",
              "    /* Redefinition of color scheme for dark theme */\n",
              "    --sklearn-color-text-on-default-background: var(--sg-text-color, var(--theme-code-foreground, var(--jp-content-font-color1, white)));\n",
              "    --sklearn-color-background: var(--sg-background-color, var(--theme-background, var(--jp-layout-color0, #111)));\n",
              "    --sklearn-color-border-box: var(--sg-text-color, var(--theme-code-foreground, var(--jp-content-font-color1, white)));\n",
              "    --sklearn-color-icon: #878787;\n",
              "  }\n",
              "}\n",
              "\n",
              "#sk-container-id-1 {\n",
              "  color: var(--sklearn-color-text);\n",
              "}\n",
              "\n",
              "#sk-container-id-1 pre {\n",
              "  padding: 0;\n",
              "}\n",
              "\n",
              "#sk-container-id-1 input.sk-hidden--visually {\n",
              "  border: 0;\n",
              "  clip: rect(1px 1px 1px 1px);\n",
              "  clip: rect(1px, 1px, 1px, 1px);\n",
              "  height: 1px;\n",
              "  margin: -1px;\n",
              "  overflow: hidden;\n",
              "  padding: 0;\n",
              "  position: absolute;\n",
              "  width: 1px;\n",
              "}\n",
              "\n",
              "#sk-container-id-1 div.sk-dashed-wrapped {\n",
              "  border: 1px dashed var(--sklearn-color-line);\n",
              "  margin: 0 0.4em 0.5em 0.4em;\n",
              "  box-sizing: border-box;\n",
              "  padding-bottom: 0.4em;\n",
              "  background-color: var(--sklearn-color-background);\n",
              "}\n",
              "\n",
              "#sk-container-id-1 div.sk-container {\n",
              "  /* jupyter's `normalize.less` sets `[hidden] { display: none; }`\n",
              "     but bootstrap.min.css set `[hidden] { display: none !important; }`\n",
              "     so we also need the `!important` here to be able to override the\n",
              "     default hidden behavior on the sphinx rendered scikit-learn.org.\n",
              "     See: https://github.com/scikit-learn/scikit-learn/issues/21755 */\n",
              "  display: inline-block !important;\n",
              "  position: relative;\n",
              "}\n",
              "\n",
              "#sk-container-id-1 div.sk-text-repr-fallback {\n",
              "  display: none;\n",
              "}\n",
              "\n",
              "div.sk-parallel-item,\n",
              "div.sk-serial,\n",
              "div.sk-item {\n",
              "  /* draw centered vertical line to link estimators */\n",
              "  background-image: linear-gradient(var(--sklearn-color-text-on-default-background), var(--sklearn-color-text-on-default-background));\n",
              "  background-size: 2px 100%;\n",
              "  background-repeat: no-repeat;\n",
              "  background-position: center center;\n",
              "}\n",
              "\n",
              "/* Parallel-specific style estimator block */\n",
              "\n",
              "#sk-container-id-1 div.sk-parallel-item::after {\n",
              "  content: \"\";\n",
              "  width: 100%;\n",
              "  border-bottom: 2px solid var(--sklearn-color-text-on-default-background);\n",
              "  flex-grow: 1;\n",
              "}\n",
              "\n",
              "#sk-container-id-1 div.sk-parallel {\n",
              "  display: flex;\n",
              "  align-items: stretch;\n",
              "  justify-content: center;\n",
              "  background-color: var(--sklearn-color-background);\n",
              "  position: relative;\n",
              "}\n",
              "\n",
              "#sk-container-id-1 div.sk-parallel-item {\n",
              "  display: flex;\n",
              "  flex-direction: column;\n",
              "}\n",
              "\n",
              "#sk-container-id-1 div.sk-parallel-item:first-child::after {\n",
              "  align-self: flex-end;\n",
              "  width: 50%;\n",
              "}\n",
              "\n",
              "#sk-container-id-1 div.sk-parallel-item:last-child::after {\n",
              "  align-self: flex-start;\n",
              "  width: 50%;\n",
              "}\n",
              "\n",
              "#sk-container-id-1 div.sk-parallel-item:only-child::after {\n",
              "  width: 0;\n",
              "}\n",
              "\n",
              "/* Serial-specific style estimator block */\n",
              "\n",
              "#sk-container-id-1 div.sk-serial {\n",
              "  display: flex;\n",
              "  flex-direction: column;\n",
              "  align-items: center;\n",
              "  background-color: var(--sklearn-color-background);\n",
              "  padding-right: 1em;\n",
              "  padding-left: 1em;\n",
              "}\n",
              "\n",
              "\n",
              "/* Toggleable style: style used for estimator/Pipeline/ColumnTransformer box that is\n",
              "clickable and can be expanded/collapsed.\n",
              "- Pipeline and ColumnTransformer use this feature and define the default style\n",
              "- Estimators will overwrite some part of the style using the `sk-estimator` class\n",
              "*/\n",
              "\n",
              "/* Pipeline and ColumnTransformer style (default) */\n",
              "\n",
              "#sk-container-id-1 div.sk-toggleable {\n",
              "  /* Default theme specific background. It is overwritten whether we have a\n",
              "  specific estimator or a Pipeline/ColumnTransformer */\n",
              "  background-color: var(--sklearn-color-background);\n",
              "}\n",
              "\n",
              "/* Toggleable label */\n",
              "#sk-container-id-1 label.sk-toggleable__label {\n",
              "  cursor: pointer;\n",
              "  display: block;\n",
              "  width: 100%;\n",
              "  margin-bottom: 0;\n",
              "  padding: 0.5em;\n",
              "  box-sizing: border-box;\n",
              "  text-align: center;\n",
              "}\n",
              "\n",
              "#sk-container-id-1 label.sk-toggleable__label-arrow:before {\n",
              "  /* Arrow on the left of the label */\n",
              "  content: \"▸\";\n",
              "  float: left;\n",
              "  margin-right: 0.25em;\n",
              "  color: var(--sklearn-color-icon);\n",
              "}\n",
              "\n",
              "#sk-container-id-1 label.sk-toggleable__label-arrow:hover:before {\n",
              "  color: var(--sklearn-color-text);\n",
              "}\n",
              "\n",
              "/* Toggleable content - dropdown */\n",
              "\n",
              "#sk-container-id-1 div.sk-toggleable__content {\n",
              "  max-height: 0;\n",
              "  max-width: 0;\n",
              "  overflow: hidden;\n",
              "  text-align: left;\n",
              "  /* unfitted */\n",
              "  background-color: var(--sklearn-color-unfitted-level-0);\n",
              "}\n",
              "\n",
              "#sk-container-id-1 div.sk-toggleable__content.fitted {\n",
              "  /* fitted */\n",
              "  background-color: var(--sklearn-color-fitted-level-0);\n",
              "}\n",
              "\n",
              "#sk-container-id-1 div.sk-toggleable__content pre {\n",
              "  margin: 0.2em;\n",
              "  border-radius: 0.25em;\n",
              "  color: var(--sklearn-color-text);\n",
              "  /* unfitted */\n",
              "  background-color: var(--sklearn-color-unfitted-level-0);\n",
              "}\n",
              "\n",
              "#sk-container-id-1 div.sk-toggleable__content.fitted pre {\n",
              "  /* unfitted */\n",
              "  background-color: var(--sklearn-color-fitted-level-0);\n",
              "}\n",
              "\n",
              "#sk-container-id-1 input.sk-toggleable__control:checked~div.sk-toggleable__content {\n",
              "  /* Expand drop-down */\n",
              "  max-height: 200px;\n",
              "  max-width: 100%;\n",
              "  overflow: auto;\n",
              "}\n",
              "\n",
              "#sk-container-id-1 input.sk-toggleable__control:checked~label.sk-toggleable__label-arrow:before {\n",
              "  content: \"▾\";\n",
              "}\n",
              "\n",
              "/* Pipeline/ColumnTransformer-specific style */\n",
              "\n",
              "#sk-container-id-1 div.sk-label input.sk-toggleable__control:checked~label.sk-toggleable__label {\n",
              "  color: var(--sklearn-color-text);\n",
              "  background-color: var(--sklearn-color-unfitted-level-2);\n",
              "}\n",
              "\n",
              "#sk-container-id-1 div.sk-label.fitted input.sk-toggleable__control:checked~label.sk-toggleable__label {\n",
              "  background-color: var(--sklearn-color-fitted-level-2);\n",
              "}\n",
              "\n",
              "/* Estimator-specific style */\n",
              "\n",
              "/* Colorize estimator box */\n",
              "#sk-container-id-1 div.sk-estimator input.sk-toggleable__control:checked~label.sk-toggleable__label {\n",
              "  /* unfitted */\n",
              "  background-color: var(--sklearn-color-unfitted-level-2);\n",
              "}\n",
              "\n",
              "#sk-container-id-1 div.sk-estimator.fitted input.sk-toggleable__control:checked~label.sk-toggleable__label {\n",
              "  /* fitted */\n",
              "  background-color: var(--sklearn-color-fitted-level-2);\n",
              "}\n",
              "\n",
              "#sk-container-id-1 div.sk-label label.sk-toggleable__label,\n",
              "#sk-container-id-1 div.sk-label label {\n",
              "  /* The background is the default theme color */\n",
              "  color: var(--sklearn-color-text-on-default-background);\n",
              "}\n",
              "\n",
              "/* On hover, darken the color of the background */\n",
              "#sk-container-id-1 div.sk-label:hover label.sk-toggleable__label {\n",
              "  color: var(--sklearn-color-text);\n",
              "  background-color: var(--sklearn-color-unfitted-level-2);\n",
              "}\n",
              "\n",
              "/* Label box, darken color on hover, fitted */\n",
              "#sk-container-id-1 div.sk-label.fitted:hover label.sk-toggleable__label.fitted {\n",
              "  color: var(--sklearn-color-text);\n",
              "  background-color: var(--sklearn-color-fitted-level-2);\n",
              "}\n",
              "\n",
              "/* Estimator label */\n",
              "\n",
              "#sk-container-id-1 div.sk-label label {\n",
              "  font-family: monospace;\n",
              "  font-weight: bold;\n",
              "  display: inline-block;\n",
              "  line-height: 1.2em;\n",
              "}\n",
              "\n",
              "#sk-container-id-1 div.sk-label-container {\n",
              "  text-align: center;\n",
              "}\n",
              "\n",
              "/* Estimator-specific */\n",
              "#sk-container-id-1 div.sk-estimator {\n",
              "  font-family: monospace;\n",
              "  border: 1px dotted var(--sklearn-color-border-box);\n",
              "  border-radius: 0.25em;\n",
              "  box-sizing: border-box;\n",
              "  margin-bottom: 0.5em;\n",
              "  /* unfitted */\n",
              "  background-color: var(--sklearn-color-unfitted-level-0);\n",
              "}\n",
              "\n",
              "#sk-container-id-1 div.sk-estimator.fitted {\n",
              "  /* fitted */\n",
              "  background-color: var(--sklearn-color-fitted-level-0);\n",
              "}\n",
              "\n",
              "/* on hover */\n",
              "#sk-container-id-1 div.sk-estimator:hover {\n",
              "  /* unfitted */\n",
              "  background-color: var(--sklearn-color-unfitted-level-2);\n",
              "}\n",
              "\n",
              "#sk-container-id-1 div.sk-estimator.fitted:hover {\n",
              "  /* fitted */\n",
              "  background-color: var(--sklearn-color-fitted-level-2);\n",
              "}\n",
              "\n",
              "/* Specification for estimator info (e.g. \"i\" and \"?\") */\n",
              "\n",
              "/* Common style for \"i\" and \"?\" */\n",
              "\n",
              ".sk-estimator-doc-link,\n",
              "a:link.sk-estimator-doc-link,\n",
              "a:visited.sk-estimator-doc-link {\n",
              "  float: right;\n",
              "  font-size: smaller;\n",
              "  line-height: 1em;\n",
              "  font-family: monospace;\n",
              "  background-color: var(--sklearn-color-background);\n",
              "  border-radius: 1em;\n",
              "  height: 1em;\n",
              "  width: 1em;\n",
              "  text-decoration: none !important;\n",
              "  margin-left: 1ex;\n",
              "  /* unfitted */\n",
              "  border: var(--sklearn-color-unfitted-level-1) 1pt solid;\n",
              "  color: var(--sklearn-color-unfitted-level-1);\n",
              "}\n",
              "\n",
              ".sk-estimator-doc-link.fitted,\n",
              "a:link.sk-estimator-doc-link.fitted,\n",
              "a:visited.sk-estimator-doc-link.fitted {\n",
              "  /* fitted */\n",
              "  border: var(--sklearn-color-fitted-level-1) 1pt solid;\n",
              "  color: var(--sklearn-color-fitted-level-1);\n",
              "}\n",
              "\n",
              "/* On hover */\n",
              "div.sk-estimator:hover .sk-estimator-doc-link:hover,\n",
              ".sk-estimator-doc-link:hover,\n",
              "div.sk-label-container:hover .sk-estimator-doc-link:hover,\n",
              ".sk-estimator-doc-link:hover {\n",
              "  /* unfitted */\n",
              "  background-color: var(--sklearn-color-unfitted-level-3);\n",
              "  color: var(--sklearn-color-background);\n",
              "  text-decoration: none;\n",
              "}\n",
              "\n",
              "div.sk-estimator.fitted:hover .sk-estimator-doc-link.fitted:hover,\n",
              ".sk-estimator-doc-link.fitted:hover,\n",
              "div.sk-label-container:hover .sk-estimator-doc-link.fitted:hover,\n",
              ".sk-estimator-doc-link.fitted:hover {\n",
              "  /* fitted */\n",
              "  background-color: var(--sklearn-color-fitted-level-3);\n",
              "  color: var(--sklearn-color-background);\n",
              "  text-decoration: none;\n",
              "}\n",
              "\n",
              "/* Span, style for the box shown on hovering the info icon */\n",
              ".sk-estimator-doc-link span {\n",
              "  display: none;\n",
              "  z-index: 9999;\n",
              "  position: relative;\n",
              "  font-weight: normal;\n",
              "  right: .2ex;\n",
              "  padding: .5ex;\n",
              "  margin: .5ex;\n",
              "  width: min-content;\n",
              "  min-width: 20ex;\n",
              "  max-width: 50ex;\n",
              "  color: var(--sklearn-color-text);\n",
              "  box-shadow: 2pt 2pt 4pt #999;\n",
              "  /* unfitted */\n",
              "  background: var(--sklearn-color-unfitted-level-0);\n",
              "  border: .5pt solid var(--sklearn-color-unfitted-level-3);\n",
              "}\n",
              "\n",
              ".sk-estimator-doc-link.fitted span {\n",
              "  /* fitted */\n",
              "  background: var(--sklearn-color-fitted-level-0);\n",
              "  border: var(--sklearn-color-fitted-level-3);\n",
              "}\n",
              "\n",
              ".sk-estimator-doc-link:hover span {\n",
              "  display: block;\n",
              "}\n",
              "\n",
              "/* \"?\"-specific style due to the `<a>` HTML tag */\n",
              "\n",
              "#sk-container-id-1 a.estimator_doc_link {\n",
              "  float: right;\n",
              "  font-size: 1rem;\n",
              "  line-height: 1em;\n",
              "  font-family: monospace;\n",
              "  background-color: var(--sklearn-color-background);\n",
              "  border-radius: 1rem;\n",
              "  height: 1rem;\n",
              "  width: 1rem;\n",
              "  text-decoration: none;\n",
              "  /* unfitted */\n",
              "  color: var(--sklearn-color-unfitted-level-1);\n",
              "  border: var(--sklearn-color-unfitted-level-1) 1pt solid;\n",
              "}\n",
              "\n",
              "#sk-container-id-1 a.estimator_doc_link.fitted {\n",
              "  /* fitted */\n",
              "  border: var(--sklearn-color-fitted-level-1) 1pt solid;\n",
              "  color: var(--sklearn-color-fitted-level-1);\n",
              "}\n",
              "\n",
              "/* On hover */\n",
              "#sk-container-id-1 a.estimator_doc_link:hover {\n",
              "  /* unfitted */\n",
              "  background-color: var(--sklearn-color-unfitted-level-3);\n",
              "  color: var(--sklearn-color-background);\n",
              "  text-decoration: none;\n",
              "}\n",
              "\n",
              "#sk-container-id-1 a.estimator_doc_link.fitted:hover {\n",
              "  /* fitted */\n",
              "  background-color: var(--sklearn-color-fitted-level-3);\n",
              "}\n",
              "</style><div id=\"sk-container-id-1\" class=\"sk-top-container\"><div class=\"sk-text-repr-fallback\"><pre>RandomForestClassifier(criterion=&#x27;entropy&#x27;, max_depth=3, n_estimators=1000,\n",
              "                       random_state=101)</pre><b>In a Jupyter environment, please rerun this cell to show the HTML representation or trust the notebook. <br />On GitHub, the HTML representation is unable to render, please try loading this page with nbviewer.org.</b></div><div class=\"sk-container\" hidden><div class=\"sk-item\"><div class=\"sk-estimator fitted sk-toggleable\"><input class=\"sk-toggleable__control sk-hidden--visually\" id=\"sk-estimator-id-1\" type=\"checkbox\" checked><label for=\"sk-estimator-id-1\" class=\"sk-toggleable__label fitted sk-toggleable__label-arrow fitted\">&nbsp;&nbsp;RandomForestClassifier<a class=\"sk-estimator-doc-link fitted\" rel=\"noreferrer\" target=\"_blank\" href=\"https://scikit-learn.org/1.5/modules/generated/sklearn.ensemble.RandomForestClassifier.html\">?<span>Documentation for RandomForestClassifier</span></a><span class=\"sk-estimator-doc-link fitted\">i<span>Fitted</span></span></label><div class=\"sk-toggleable__content fitted\"><pre>RandomForestClassifier(criterion=&#x27;entropy&#x27;, max_depth=3, n_estimators=1000,\n",
              "                       random_state=101)</pre></div> </div></div></div></div>"
            ],
            "text/plain": [
              "RandomForestClassifier(criterion='entropy', max_depth=3, n_estimators=1000,\n",
              "                       random_state=101)"
            ]
          },
          "execution_count": 49,
          "metadata": {},
          "output_type": "execute_result"
        }
      ],
      "source": [
        "# train\n",
        "rf.fit(X_train, y_train.values.ravel())"
      ]
    },
    {
      "cell_type": "code",
      "execution_count": 50,
      "metadata": {
        "colab": {
          "base_uri": "https://localhost:8080/",
          "height": 762
        },
        "id": "LJDumVnwlX6u",
        "outputId": "0f5cf98a-fe13-4b6a-c05b-043c7d4c3efa"
      },
      "outputs": [
        {
          "name": "stdout",
          "output_type": "stream",
          "text": [
            "              precision    recall  f1-score   support\n",
            "\n",
            "         0.0       0.51      0.51      0.51       344\n",
            "         1.0       0.61      0.61      0.61       426\n",
            "\n",
            "    accuracy                           0.56       770\n",
            "   macro avg       0.56      0.56      0.56       770\n",
            "weighted avg       0.57      0.56      0.56       770\n",
            "\n"
          ]
        },
        {
          "data": {
            "image/png": "[encoded data removed]",
            "text/plain": [
              "<Figure size 1700x900 with 1 Axes>"
            ]
          },
          "metadata": {},
          "output_type": "display_data"
        }
      ],
      "source": [
        "# predict\n",
        "y_prob = rf.predict_proba(X_test)[:, 1]\n",
        "# print(y_prob)\n",
        "y_pred = rf.predict(X_test)\n",
        "# print(y_pred)\n",
        "\n",
        "rFP, rTP, thresholds = roc_curve(y_test, y_prob)\n",
        "print(classification_report(y_test, y_pred))\n",
        "      \n",
        "plt.figure(1)\n",
        "plt.plot([0, 1], [0, 1], 'k--')\n",
        "plt.plot(rFP, rTP, label='RF')\n",
        "plt.xlabel('False positive rate')\n",
        "plt.ylabel('True positive rate')\n",
        "plt.title('ROC curve')\n",
        "plt.legend(loc='best')\n",
        "plt.show()"
      ]
    },
    {
      "cell_type": "code",
      "execution_count": null,
      "metadata": {
        "id": "_eqgbELGtN_E"
      },
      "outputs": [],
      "source": []
    }
  ],
  "metadata": {
    "colab": {
      "include_colab_link": true,
      "provenance": []
    },
    "kernelspec": {
      "display_name": "Python 3",
      "language": "python",
      "name": "python3"
    },
    "language_info": {
      "codemirror_mode": {
        "name": "ipython",
        "version": 3
      },
      "file_extension": ".py",
      "mimetype": "text/x-python",
      "name": "python",
      "nbconvert_exporter": "python",
      "pygments_lexer": "ipython3",
      "version": "3.11.1"
    },
    "orig_nbformat": 4
  },
  "nbformat": 4,
  "nbformat_minor": 0
}
